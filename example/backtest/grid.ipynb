{
 "cells": [
  {
   "cell_type": "code",
   "execution_count": 6,
   "metadata": {
    "collapsed": true
   },
   "outputs": [
    {
     "name": "stdout",
     "output_type": "stream",
     "text": [
      "0       0.066428\n",
      "1       0.105334\n",
      "2       0.080843\n",
      "3       0.043673\n",
      "4       0.051750\n",
      "          ...   \n",
      "1121    0.019022\n",
      "1122    0.019991\n",
      "1123    0.036787\n",
      "1124    0.050382\n",
      "1125    0.017611\n",
      "Length: 1126, dtype: float64\n",
      "标准差： 0.05099779987572498\n"
     ]
    }
   ],
   "source": [
    "import pandas as pd\n",
    "from numpy import *\n",
    "\n",
    "data=pd.read_csv(\"BINANCE_BTCUSDT.csv\")\n",
    "c=(data[\"high\"]-data[\"low\"])/data[\"close\"]\n",
    "\n",
    "\n",
    "print(c)\n",
    "print(\"标准差：\",std(c))\n"
   ]
  }
 ],
 "metadata": {
  "kernelspec": {
   "display_name": "Python 3",
   "language": "python",
   "name": "python3"
  },
  "language_info": {
   "codemirror_mode": {
    "name": "ipython",
    "version": 2
   },
   "file_extension": ".py",
   "mimetype": "text/x-python",
   "name": "python",
   "nbconvert_exporter": "python",
   "pygments_lexer": "ipython2",
   "version": "2.7.6"
  }
 },
 "nbformat": 4,
 "nbformat_minor": 0
}