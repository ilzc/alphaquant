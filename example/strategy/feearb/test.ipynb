{
 "cells": [
  {
   "cell_type": "code",
   "execution_count": 1,
   "metadata": {
    "collapsed": true,
    "pycharm": {
     "name": "#%%\n"
    }
   },
   "outputs": [],
   "source": [
    "import os,sys\n",
    "import pandas as pd\n",
    "sys.path.append('d:\\\\DEV\\\\alphaquant\\\\example\\\\strategy\\\\feearb')\n",
    "from aq.engine.event import EventEngine\n",
    "from aq.broker.binancefutures import BinanceFutures\n",
    "from aq.broker.huobi import HuobiFutures\n",
    "ev = EventEngine()\n",
    "ev.start()\n",
    "long=BinanceFutures(ev)\n",
    "short=HuobiFutures(ev)\n",
    "\n"
   ]
  },
  {
   "cell_type": "code",
   "execution_count": 2,
   "metadata": {
    "pycharm": {
     "name": "#%%\n"
    }
   },
   "outputs": [],
   "source": [
    "s=short.get_fees()\n",
    "l=long.get_fees()\n",
    "data=[]\n",
    "for i in s:\n",
    "    symbol=i.split(\"-\")[0]+\"USDT\"\n",
    "    r=l.get(symbol,0)\n",
    "    if r!=0:\n",
    "        rs=[i,s[i],r]\n",
    "        data.append(rs)\n",
    "df=pd.DataFrame(data)\n",
    "df.columns=[\"symbil\",\"huobi\",\"binance\"]"
   ]
  },
  {
   "cell_type": "code",
   "execution_count": 3,
   "metadata": {
    "pycharm": {
     "name": "#%%\n"
    }
   },
   "outputs": [
    {
     "name": "stdout",
     "output_type": "stream",
     "text": [
      "       symbil     huobi   binance       dif\n",
      "38    CRV-USD  0.004037 -0.000612  0.013946\n",
      "30    BAL-USD -0.002394  0.000100  0.007481\n",
      "32   IOST-USD  0.001011 -0.001054  0.006196\n",
      "3     FIL-USD -0.002700 -0.001238  0.004386\n",
      "22    XMR-USD -0.000953  0.000100  0.003159\n",
      "47   AVAX-USD -0.000768  0.000083  0.002553\n",
      "29  THETA-USD  0.000100 -0.000557  0.001970\n",
      "14    BCH-USD -0.000549  0.000100  0.001947\n",
      "10  WAVES-USD  0.000100 -0.000509  0.001828\n",
      "9    BAND-USD -0.000378  0.000100  0.001434\n",
      "26    VET-USD -0.000235  0.000100  0.001005\n",
      "35    SNX-USD -0.000221 -0.000488  0.000803\n",
      "0     BTC-USD  0.000100 -0.000158  0.000775\n",
      "4     UNI-USD  0.000351  0.000100  0.000753\n",
      "16    ETC-USD -0.000140  0.000100  0.000720\n",
      "33    MKR-USD  0.000100 -0.000065  0.000496\n",
      "11   ATOM-USD -0.000046  0.000100  0.000437\n",
      "2    LINK-USD -0.000040  0.000100  0.000420\n",
      "43    YFI-USD -0.000038  0.000100  0.000414\n",
      "13    KNC-USD  0.000100  0.000173  0.000219\n",
      "5     DOT-USD  0.000100  0.000041  0.000176\n",
      "42  STORJ-USD  0.000100  0.000100  0.000000\n",
      "41    RSR-USD  0.000100  0.000100  0.000000\n",
      "40    KSM-USD  0.000100  0.000100  0.000000\n",
      "39    BAT-USD  0.000100  0.000100  0.000000\n",
      "45   YFII-USD  0.000100  0.000100  0.000000\n",
      "37   QTUM-USD  0.000100  0.000100  0.000000\n",
      "36    OMG-USD  0.000100  0.000100  0.000000\n",
      "46    TRB-USD  0.000100  0.000100  0.000000\n",
      "48   AAVE-USD  0.000100  0.000100  0.000000\n",
      "34   COMP-USD  0.000100  0.000100  0.000000\n",
      "44  SUSHI-USD  0.000100  0.000100  0.000000\n",
      "25   ALGO-USD  0.000100  0.000100  0.000000\n",
      "31    REN-USD  0.000100  0.000100  0.000000\n",
      "18   IOTA-USD  0.000100  0.000100  0.000000\n",
      "6     EOS-USD  0.000100  0.000100  0.000000\n",
      "7     ADA-USD  0.000100  0.000100  0.000000\n",
      "8     LTC-USD  0.000100  0.000100  0.000000\n",
      "12    ZEC-USD  0.000100  0.000100  0.000000\n",
      "15    XRP-USD  0.000100  0.000100  0.000000\n",
      "17    TRX-USD  0.000100  0.000100  0.000000\n",
      "19    NEO-USD  0.000100  0.000100  0.000000\n",
      "28   DOGE-USD  0.000100  0.000100  0.000000\n",
      "20    ONT-USD  0.000100  0.000100  0.000000\n",
      "21    XLM-USD  0.000100  0.000100  0.000000\n",
      "23    XTZ-USD  0.000100  0.000100  0.000000\n",
      "24   DASH-USD  0.000100  0.000100  0.000000\n",
      "1     ETH-USD  0.000100  0.000100  0.000000\n",
      "27    ZRX-USD  0.000100  0.000100  0.000000\n",
      "49   NEAR-USD  0.000100  0.000100  0.000000\n"
     ]
    }
   ],
   "source": [
    "df['dif']=df[\"huobi\"]*3-df[\"binance\"]*3\n",
    "df[\"dif\"]=df[\"dif\"].abs()\n",
    "df=df.sort_values(by=\"dif\",ascending=False)\n",
    "print(df)"
   ]
  }
 ],
 "metadata": {
  "kernelspec": {
   "display_name": "Python 3",
   "language": "python",
   "name": "python3"
  },
  "language_info": {
   "codemirror_mode": {
    "name": "ipython",
    "version": 3
   },
   "file_extension": ".py",
   "mimetype": "text/x-python",
   "name": "python",
   "nbconvert_exporter": "python",
   "pygments_lexer": "ipython3",
   "version": "3.7.4"
  }
 },
 "nbformat": 4,
 "nbformat_minor": 1
}